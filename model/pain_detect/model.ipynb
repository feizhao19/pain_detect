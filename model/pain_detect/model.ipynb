{
 "cells": [
  {
   "cell_type": "markdown",
   "id": "fe39ccff",
   "metadata": {},
   "source": [
    "###  Apply transfer learning to reduce the dependence on data, given the limited amount of available data.\n",
    "1. VGGFACE pretrained models: VGG16, ResNet50, SeNet\n",
    "2. Data Preprocessing: Face Extractions by YOLO\n",
    "3. Data Augmentation: Rotations, Flips\n",
    "4. EarlyStopping Applied to prevent the model from overfitting in the training process during training process"
   ]
  },
  {
   "cell_type": "markdown",
   "id": "8fe20a47",
   "metadata": {},
   "source": [
    "##### 1. Import APIs\n",
    "tensorflow 1.7+"
   ]
  },
  {
   "cell_type": "code",
   "execution_count": 1,
   "id": "97df2d3f",
   "metadata": {},
   "outputs": [
    {
     "name": "stderr",
     "output_type": "stream",
     "text": [
      "/home/larry5/.conda/envs/yoloclone/lib/python3.6/site-packages/tensorflow/python/framework/dtypes.py:517: FutureWarning: Passing (type, 1) or '1type' as a synonym of type is deprecated; in a future version of numpy, it will be understood as (type, (1,)) / '(1,)type'.\n",
      "  _np_qint8 = np.dtype([(\"qint8\", np.int8, 1)])\n",
      "/home/larry5/.conda/envs/yoloclone/lib/python3.6/site-packages/tensorflow/python/framework/dtypes.py:518: FutureWarning: Passing (type, 1) or '1type' as a synonym of type is deprecated; in a future version of numpy, it will be understood as (type, (1,)) / '(1,)type'.\n",
      "  _np_quint8 = np.dtype([(\"quint8\", np.uint8, 1)])\n",
      "/home/larry5/.conda/envs/yoloclone/lib/python3.6/site-packages/tensorflow/python/framework/dtypes.py:519: FutureWarning: Passing (type, 1) or '1type' as a synonym of type is deprecated; in a future version of numpy, it will be understood as (type, (1,)) / '(1,)type'.\n",
      "  _np_qint16 = np.dtype([(\"qint16\", np.int16, 1)])\n",
      "/home/larry5/.conda/envs/yoloclone/lib/python3.6/site-packages/tensorflow/python/framework/dtypes.py:520: FutureWarning: Passing (type, 1) or '1type' as a synonym of type is deprecated; in a future version of numpy, it will be understood as (type, (1,)) / '(1,)type'.\n",
      "  _np_quint16 = np.dtype([(\"quint16\", np.uint16, 1)])\n",
      "/home/larry5/.conda/envs/yoloclone/lib/python3.6/site-packages/tensorflow/python/framework/dtypes.py:521: FutureWarning: Passing (type, 1) or '1type' as a synonym of type is deprecated; in a future version of numpy, it will be understood as (type, (1,)) / '(1,)type'.\n",
      "  _np_qint32 = np.dtype([(\"qint32\", np.int32, 1)])\n",
      "/home/larry5/.conda/envs/yoloclone/lib/python3.6/site-packages/tensorflow/python/framework/dtypes.py:526: FutureWarning: Passing (type, 1) or '1type' as a synonym of type is deprecated; in a future version of numpy, it will be understood as (type, (1,)) / '(1,)type'.\n",
      "  np_resource = np.dtype([(\"resource\", np.ubyte, 1)])\n",
      "Using TensorFlow backend.\n"
     ]
    },
    {
     "name": "stdout",
     "output_type": "stream",
     "text": [
      "tensorflow version:  1.7.0\n"
     ]
    }
   ],
   "source": [
    "import tensorflow as tf\n",
    "import keras\n",
    "import warnings\n",
    "\n",
    "# Filter out FutureWarnings\n",
    "warnings.filterwarnings('ignore', category=FutureWarning)\n",
    "\n",
    "print(\"tensorflow version: \", tf.__version__)\n",
    "from keras_vggface.vggface import VGGFace\n",
    "import dlib\n",
    "from sklearn.model_selection import KFold\n",
    "import numpy as np\n",
    "from keras.preprocessing.image import ImageDataGenerator\n",
    "from keras.optimizers import Adam\n",
    "from keras.callbacks import ModelCheckpoint, EarlyStopping, ReduceLROnPlateau\n",
    "\n",
    "from keras.preprocessing import image\n",
    "import matplotlib.pyplot as plt\n",
    "import os\n",
    "import random\n",
    "\n",
    "from models.custom_model import get_custom_model\n",
    "import numpy as np\n",
    "from keras.preprocessing import image\n",
    "from keras_vggface.vggface import VGGFace\n",
    "from keras_vggface import utils\n",
    "\n",
    "from keras.engine import  Model\n",
    "from keras.layers import Flatten, Dense, Input, BatchNormalization, Dropout\n",
    "from sklearn.metrics import confusion_matrix\n",
    "from sklearn.metrics import precision_recall_fscore_support\n",
    "\n",
    "\n"
   ]
  },
  {
   "cell_type": "markdown",
   "id": "d88a62eb",
   "metadata": {},
   "source": [
    "####  Testing"
   ]
  },
  {
   "cell_type": "markdown",
   "id": "03239571",
   "metadata": {},
   "source": [
    "##### 1. Define the Data Generator"
   ]
  },
  {
   "cell_type": "code",
   "execution_count": 2,
   "id": "cb988cc0",
   "metadata": {},
   "outputs": [],
   "source": [
    "# activate the rotation and horizontal flip\n",
    "train_datagen = ImageDataGenerator(\n",
    "    rescale=1.0/255.0,\n",
    "#     validation_split = 0.2,\n",
    "    featurewise_center=False,\n",
    "    featurewise_std_normalization=False,\n",
    "    rotation_range=15,\n",
    "    width_shift_range=0.05,\n",
    "    height_shift_range=0.05,\n",
    "    horizontal_flip=True)\n",
    "valid_datagen = ImageDataGenerator(\n",
    "    rescale=1.0/255.0,\n",
    "#     validation_split = 0.2,\n",
    "    featurewise_center=False,\n",
    "    featurewise_std_normalization=False,\n",
    "    rotation_range=15,\n",
    "    width_shift_range=0.05,\n",
    "    height_shift_range=0.05,\n",
    "    horizontal_flip=True)\n",
    "test_datagen  = ImageDataGenerator(rescale = 1./255)"
   ]
  },
  {
   "cell_type": "code",
   "execution_count": 3,
   "id": "869898f1",
   "metadata": {},
   "outputs": [
    {
     "name": "stderr",
     "output_type": "stream",
     "text": [
      "/home/larry5/.conda/envs/yoloclone/lib/python3.6/site-packages/keras_applications/resnet50.py:265: UserWarning: The output shape of `ResNet50(include_top=False)` has been changed since Keras 2.2.0.\n",
      "  warnings.warn('The output shape of `ResNet50(include_top=False)` '\n"
     ]
    },
    {
     "name": "stdout",
     "output_type": "stream",
     "text": [
      "Found 187 images belonging to 2 classes.\n"
     ]
    }
   ],
   "source": [
    "# Get the model\n",
    "custom_pretrained_model = get_custom_model()\n",
    "\n",
    "# Compile, fit, or evaluate the model\n",
    "# For example, to compile:\n",
    "custom_pretrained_model.compile(optimizer='adam', loss='categorical_crossentropy', metrics=['accuracy'])\n",
    "\n",
    "# Now you can fit the model to your data, evaluate it, etc.\n",
    "\n",
    "testdata = test_datagen.flow_from_directory(directory=\"../../../neo/PainDetector/data/face_dir_final/\",target_size=(224,224), class_mode='categorical',shuffle= False,batch_size=8)\n"
   ]
  },
  {
   "cell_type": "code",
   "execution_count": 4,
   "id": "26661eb9",
   "metadata": {},
   "outputs": [
    {
     "name": "stdout",
     "output_type": "stream",
     "text": [
      "Weights loaded...\n",
      "24/24 [==============================] - 9s 364ms/step\n",
      "Calculate accuracy ...\n",
      "Accuracy reslut: 0.7754010695187166\n",
      "Num of cases sent to manual branch: 10\n",
      "Final accuracy:  [0.82352941]\n"
     ]
    }
   ],
   "source": [
    "GT = []\n",
    "pre = np.array([])\n",
    "\n",
    "weight_address = \"../../data/weights/model_weight.hdf5\"\n",
    "\n",
    "\n",
    "try:\n",
    "    custom_pretrained_model.load_weights(weight_address)\n",
    "    print(\"Weights loaded...\")\n",
    "except:\n",
    "    pass\n",
    "\n",
    "#obtian results\n",
    "pred=custom_pretrained_model.predict_generator(testdata, steps=len(testdata), verbose=1)\n",
    "filenames=testdata.filenames\n",
    "for i in filenames:  #load gt label\n",
    "    if \"no\" in i.split('/')[0]:\n",
    "        GT.append(0)\n",
    "    else:\n",
    "        GT.append(1)\n",
    "gt = np.array(GT)  #convert to np array\n",
    "\n",
    "predicted_class_indices=np.argmax(pred,axis=1)  #obtain predictions\n",
    "\n",
    "\n",
    "cnf_matrix = confusion_matrix(gt, predicted_class_indices)  \n",
    "cm = cnf_matrix\n",
    "TN  = cm[0][0]  \n",
    "FN  = cm[1][0]  \n",
    "TP  = cm[1][1] \n",
    "FP  = cm[0][1] \n",
    "FP = FP.astype(float)\n",
    "FN = FN.astype(float)\n",
    "TP = TP.astype(float)\n",
    "TN = TN.astype(float)\n",
    "# #  true positive rate\n",
    "# TPR = TP/(TP+FN)\n",
    "# # true negative rate\n",
    "# TNR = TN/(TN+FP) \n",
    "# # false positive rate\n",
    "# FPR = FP/(FP+TP)\n",
    "# # False negative rate\n",
    "# FNR = FN/(TN+FN)\n",
    "print(\"Calculate accuracy ...\")\n",
    "single_branch_ACC =  (TP + TN)/(FP+TN + FN +TP)\n",
    "print(\"Accuracy reslut:\", single_branch_ACC)\n",
    "\n",
    "# threshold \n",
    "k = 0.55 \n",
    "small_index = np.where( (pred[:,1] <= k) & (pred[:,1] > (1-k)))  #check\n",
    "predicted_class_indices[small_index] = gt[small_index]  #update\n",
    "print(\"Num of cases sent to manual branch:\", small_index[0].shape[0])\n",
    "num_cor = np.sum(gt == predicted_class_indices) #TP+TN\n",
    "print(\"Final accuracy: \", num_cor / gt.shape)"
   ]
  },
  {
   "cell_type": "code",
   "execution_count": null,
   "id": "95fb20d4",
   "metadata": {},
   "outputs": [],
   "source": []
  },
  {
   "cell_type": "code",
   "execution_count": null,
   "id": "b6a617c5",
   "metadata": {},
   "outputs": [],
   "source": []
  },
  {
   "cell_type": "code",
   "execution_count": null,
   "id": "2a25652f",
   "metadata": {},
   "outputs": [],
   "source": []
  },
  {
   "cell_type": "code",
   "execution_count": null,
   "id": "153f87ba",
   "metadata": {},
   "outputs": [],
   "source": []
  },
  {
   "cell_type": "markdown",
   "id": "75c03fdb",
   "metadata": {},
   "source": [
    "#### Training"
   ]
  },
  {
   "cell_type": "markdown",
   "id": "b0b34c3f",
   "metadata": {},
   "source": [
    "##### 1. Hyperparameters "
   ]
  },
  {
   "cell_type": "code",
   "execution_count": null,
   "id": "8f727bda",
   "metadata": {},
   "outputs": [],
   "source": [
    "#custom parameters\n",
    "learning_rate = 0.00001\n",
    "nb_class = 2\n",
    "hidden_dim = 512\n",
    "batch_size = 32\n",
    "img_height = 224\n",
    "img_width = 224\n",
    "data_dir = \"../../data/COPE/\"\n",
    "print(\"Does the data folder exist: \", os.path.isdir(data_dir))"
   ]
  },
  {
   "cell_type": "markdown",
   "id": "6f165f4f",
   "metadata": {},
   "source": [
    "##### 2. Train the model"
   ]
  },
  {
   "cell_type": "code",
   "execution_count": null,
   "id": "52387ad4",
   "metadata": {},
   "outputs": [],
   "source": [
    "custom_pretrained_model = get_custom_model()\n",
    "opt = Adam(lr=learning_rate)\n",
    "custom_pretrained_model.compile(optimizer=opt, loss=keras.losses.categorical_crossentropy, metrics=['accuracy'])\n",
    "path = \"../../data/weights/\" + \"weights-{epoch:03d}-{val_acc:.4f}.hdf5\"\n",
    "\n",
    "\n",
    "traindata = train_datagen.flow_from_directory(directory=data_dir  +\"/training/\",target_size=(224,224),class_mode='categorical',shuffle= True,batch_size=8)\n",
    "testdata = valid_datagen.flow_from_directory(directory=data_dir  +\"/validation/\",target_size=(224,224),class_mode='categorical',shuffle= True,batch_size=8)\n",
    "checkpoint = ModelCheckpoint(path, monitor='val_acc', verbose=1, save_best_only=True, save_weights_only=False, mode='auto', period=1)\n",
    "early = EarlyStopping(monitor='val_acc', min_delta=0, patience=20, verbose=1, mode='auto')\n",
    "hist = custom_pretrained_model.fit_generator(generator=traindata, validation_data= testdata, epochs=100,callbacks=[checkpoint,early])\n"
   ]
  },
  {
   "cell_type": "code",
   "execution_count": null,
   "id": "5487e893",
   "metadata": {},
   "outputs": [],
   "source": []
  }
 ],
 "metadata": {
  "anaconda-cloud": {},
  "kernelspec": {
   "display_name": "Python [conda env:.conda-yoloclone]",
   "language": "python",
   "name": "conda-env-.conda-yoloclone-py"
  },
  "language_info": {
   "codemirror_mode": {
    "name": "ipython",
    "version": 3
   },
   "file_extension": ".py",
   "mimetype": "text/x-python",
   "name": "python",
   "nbconvert_exporter": "python",
   "pygments_lexer": "ipython3",
   "version": "3.6.6"
  }
 },
 "nbformat": 4,
 "nbformat_minor": 5
}
