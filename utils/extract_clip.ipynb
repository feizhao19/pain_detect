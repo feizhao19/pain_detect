{
 "cells": [
  {
   "cell_type": "markdown",
   "id": "02a94068",
   "metadata": {},
   "source": [
    "##### Extract video segments form USF based on the annatation files"
   ]
  },
  {
   "cell_type": "code",
   "execution_count": null,
   "id": "8bc5c5f8",
   "metadata": {},
   "outputs": [],
   "source": [
    "import pandas as pd\n",
    "import cv2 \n",
    "import numpy as np\n",
    "import os\n",
    "import moviepy\n",
    "from moviepy.video.io.ffmpeg_tools import ffmpeg_extract_subclip\n"
   ]
  },
  {
   "cell_type": "code",
   "execution_count": null,
   "id": "5b845fc7",
   "metadata": {},
   "outputs": [],
   "source": [
    "csv_name = '../data/annotation/sub037_pro1_time.csv'\n",
    "pain_address = '../data/USF/clips/pain/'\n",
    "no_pain_address = '../data/USF/clips/no_pain/'"
   ]
  },
  {
   "cell_type": "code",
   "execution_count": null,
   "id": "0b3f48ca",
   "metadata": {},
   "outputs": [],
   "source": [
    "csv = pd.read_csv(csv_name)"
   ]
  },
  {
   "cell_type": "code",
   "execution_count": null,
   "id": "c350c265",
   "metadata": {},
   "outputs": [],
   "source": [
    "if \"time\" in csv_name:\n",
    "    video_name = csv_name.replace('modified_data', 'original_data').replace('.csv', '.MP4').replace('USF video ', '').replace('_time','')\n",
    "else:\n",
    "    video_name = csv_name.replace('modified_data', 'original_data').replace('.csv', '.MP4').replace('USF video ', '')"
   ]
  },
  {
   "cell_type": "code",
   "execution_count": null,
   "id": "610e4160",
   "metadata": {},
   "outputs": [],
   "source": [
    "# video start point\n",
    "start_sec = int(33*60) + 15\n",
    "print(start_sec)"
   ]
  },
  {
   "cell_type": "code",
   "execution_count": null,
   "id": "f82130ed",
   "metadata": {},
   "outputs": [],
   "source": [
    "def time(tim, time_ini):\n",
    "    if len(tim) != 11:\n",
    "        tim = tim.split(':')\n",
    "        real_second = int(tim[0]) *60 + int(tim[1])\n",
    "    else:\n",
    "        tim = tim.split(':')\n",
    "        real_second = int(tim[1]) *60 + int(tim[2])  -  time_ini\n",
    "    return real_second"
   ]
  },
  {
   "cell_type": "code",
   "execution_count": null,
   "id": "d39746a1",
   "metadata": {},
   "outputs": [],
   "source": [
    "if os.path.isfile(video_name):\n",
    "    print(\"found the video file\")"
   ]
  },
  {
   "cell_type": "code",
   "execution_count": null,
   "id": "98ada8a3",
   "metadata": {},
   "outputs": [],
   "source": [
    "store_data = dict()\n",
    "\n",
    "for row in csv.itertuples():\n",
    "    pain_class = \"\"\n",
    "#     print(row[2],row[3])\n",
    "    if pd.notna(row[3]):\n",
    "#         print(row[3])\n",
    "        pain_num = int(row[3].split('(')[0])\n",
    "        if pain_num <= 2:\n",
    "            pain_class = \"no_pain\"\n",
    "        else:\n",
    "            pain_class = 'pain'\n",
    "            \n",
    "        time_start, time_end = row[2].split('-')\n",
    "        time_start = time(time_start, start_sec)\n",
    "        time_end = time(time_end, start_sec)\n",
    "        name = str(time_start) + ':' + str(time_end)\n",
    "        store_data.update({name:pain_class + '_' + str(pain_num) })\n",
    "        \n",
    "#     print(pain_class)"
   ]
  },
  {
   "cell_type": "code",
   "execution_count": null,
   "id": "df02a6de",
   "metadata": {},
   "outputs": [],
   "source": [
    "store_data"
   ]
  },
  {
   "cell_type": "code",
   "execution_count": null,
   "id": "c0be2025",
   "metadata": {},
   "outputs": [],
   "source": [
    "i = 0\n",
    "for key, item in store_data.items():\n",
    "    time_start, time_end = key.split(':')\n",
    "    t1 = int(time_start)\n",
    "    t2 = int(time_end)\n",
    "    if 'no_pain' in item:\n",
    "        file_name = no_pain_address + str(i) + '_' + item + '_' +video_name.split('/')[-1]\n",
    "    else: \n",
    "        file_name = pain_address + str(i) + '_' + item + '_'+ video_name.split('/')[-1]\n",
    "\n",
    "    ffmpeg_extract_subclip(video_name, t1, t2, targetname=file_name)\n",
    "    i += 1"
   ]
  },
  {
   "cell_type": "code",
   "execution_count": null,
   "id": "3bb06f79",
   "metadata": {},
   "outputs": [],
   "source": [
    "# check the segment:\n",
    "videos_address = '../data/USF/clips/no_pain/'\n",
    "videos = os.listdir(videos_address)\n",
    "videos"
   ]
  },
  {
   "cell_type": "code",
   "execution_count": null,
   "id": "12987cd0",
   "metadata": {},
   "outputs": [],
   "source": [
    "subjects = []\n",
    "for i in videos:\n",
    "    if i.split('_')[-2]+ i.split('_')[-1] not in subjects:\n",
    "        subjects.append(i.split('_')[-2]+ i.split('_')[-1])\n",
    "subjects"
   ]
  }
 ],
 "metadata": {
  "anaconda-cloud": {},
  "kernelspec": {
   "display_name": "Python [conda env:.conda-yoloclone]",
   "language": "python",
   "name": "conda-env-.conda-yoloclone-py"
  },
  "language_info": {
   "codemirror_mode": {
    "name": "ipython",
    "version": 3
   },
   "file_extension": ".py",
   "mimetype": "text/x-python",
   "name": "python",
   "nbconvert_exporter": "python",
   "pygments_lexer": "ipython3",
   "version": "3.6.6"
  }
 },
 "nbformat": 4,
 "nbformat_minor": 5
}
